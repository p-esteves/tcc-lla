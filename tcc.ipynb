{
 "cells": [
  {
   "cell_type": "markdown",
   "metadata": {},
   "source": [
    "# Classificação de Células de Leucemia com Redes Neurais\n",
    "\n",
    "**Autor:** Pietro Esteves\n",
    "\n",
    "## Introdução\n",
    "\n",
    "Este projeto foi desenvolvido como parte do meu Trabalho de Conclusão de Curso (TCC) e tem como objetivo a criação de um modelo de deep learning para a classificação de diferentes tipos de células sanguíneas, com foco na identificação de células de leucemia. A leucemia é um tipo de câncer que afeta as células do sangue e da medula óssea, e a sua detecção precoce é fundamental para o tratamento. O trabalho será publicado no Repositório da UFC em breve e assim que sair, colocarei um link aqui.\n",
    "\n",
    "Utilizamos um conjunto de dados de imagens de células sanguíneas do Kaggle e a biblioteca `fastai` para treinar um modelo de rede neural convolucional (CNN) capaz de classificar as células em quatro categorias: 'Benigno', 'Inicial', 'Pré B' e 'Pró B'."
   ]
  },
  {
   "cell_type": "markdown",
   "metadata": {},
   "source": [
    "## 1. Importação das Bibliotecas\n",
    "\n",
    "Nesta primeira etapa, importamos todos os módulos e bibliotecas necessários para o desenvolvimento do projeto. Utilizamos `os` para manipulação de caminhos de arquivos, `pandas` para a criação e manipulação de dataframes, e `fastai.vision` para as funcionalidades de visão computacional."
   ]
  },
  {
   "cell_type": "code",
   "execution_count": null,
   "metadata": {},
   "outputs": [],
   "source": [
    "import os\n",
    "import pandas as pd\n",
    "from fastai.vision.all import *\n",
    "from fastai.vision import models\n",
    "from fastai.metrics import error_rate, accuracy\n",
    "import warnings\n",
    "\n",
    "# Ignora avisos para uma saída mais limpa\n",
    "warnings.filterwarnings(\"ignore\")\n",
    "\n",
    "# Define uma semente para garantir a reprodutibilidade dos resultados\n",
    "set_seed(42)"
   ]
  },
  {
   "cell_type": "markdown",
   "metadata": {},
   "source": [
    "## 2. Carregamento e Preparação dos Dados\n",
    "\n",
    "Para este projeto, utilizamos um dataset público do Kaggle. A seguir, realizamos o download dos dados e os organizamos em um formato adequado para o treinamento do modelo."
   ]
  },
  {
   "cell_type": "code",
   "execution_count": null,
   "metadata": {},
   "outputs": [],
   "source": [
    "import kagglehub\n",
    "\n",
    "# Realiza o download do dataset a partir do Kaggle Hub\n",
    "path = kagglehub.dataset_download(\"mehradaria/leukemia\")\n",
    "\n",
    "print(f\"Diretório dos dados: {path}\")"
   ]
  },
  {
   "cell_type": "markdown",
   "metadata": {},
   "source": [
    "### 2.1. Criação do DataFrame\n",
    "\n",
    "Após o download, criamos um DataFrame do `pandas` contendo os caminhos das imagens e seus respectivos rótulos. Essa estrutura de dados facilita a manipulação e a organização das informações."
   ]
  },
  {
   "cell_type": "code",
   "execution_count": null,
   "metadata": {},
   "outputs": [],
   "source": [
    "# Define o diretório principal das imagens\n",
    "data_dir = path + '/Original'\n",
    "filepaths = []\n",
    "labels = []\n",
    "\n",
    "# Mapeia os rótulos originais em inglês para português\n",
    "label_map = {\n",
    "    'Early': 'Inicial',\n",
    "    'PreB': 'Pré B',\n",
    "    'ProB': 'Pró B',\n",
    "    'Benign': 'Benigno'\n",
    "}\n",
    "\n",
    "# Itera sobre as pastas de cada classe de célula\n",
    "for fold in os.listdir(data_dir):\n",
    "    foldpath = os.path.join(data_dir, fold)\n",
    "    if os.path.isdir(foldpath):\n",
    "        for file in os.listdir(foldpath):\n",
    "            fpath = os.path.join(foldpath, file)\n",
    "            # Adiciona o caminho relativo do arquivo à lista\n",
    "            filepaths.append(os.path.relpath(fpath, data_dir))\n",
    "            # Adiciona o rótulo traduzido à lista\n",
    "            translated_label = label_map.get(fold, fold)\n",
    "            labels.append(translated_label)\n",
    "\n",
    "# Cria o DataFrame com os caminhos e os rótulos\n",
    "Fseries = pd.Series(filepaths, name='filepaths')\n",
    "Lseries = pd.Series(labels, name='labels')\n",
    "df = pd.concat([Fseries, Lseries], axis=1)"
   ]
  },
  {
   "cell_type": "markdown",
   "metadata": {},
   "source": [
    "### 2.2. Análise da Distribuição das Classes\n",
    "\n",
    "É uma boa prática verificar a distribuição das classes no conjunto de dados. Um desbalanceamento significativo pode impactar o desempenho do modelo. O gráfico abaixo mostra a quantidade de imagens para cada tipo de célula."
   ]
  },
  {
   "cell_type": "code",
   "execution_count": null,
   "metadata": {},
   "outputs": [],
   "source": [
    "from matplotlib import pyplot as plt\n",
    "import seaborn as sns\n",
    "\n",
    "# Plota a distribuição das classes\n",
    "df.groupby('labels').size().plot(kind='barh', color=sns.palettes.mpl_palette('tab10'))\n",
    "plt.gca().spines[['top', 'right',]].set_visible(False)\n",
    "plt.ylabel('Tipos de célula')\n",
    "plt.xlabel('Número de Imagens')\n",
    "plt.title('Distribuição das Classes de Células')\n",
    "plt.show()"
   ]
  },
  {
   "cell_type": "markdown",
   "metadata": {},
   "source": [
    "### 2.3. Preparação dos DataLoaders\n",
    "\n",
    "Com o DataFrame criado, utilizamos a classe `ImageDataLoaders` do `fastai` para preparar os dados para o treinamento. Esta classe lida com a divisão dos dados em conjuntos de treino e validação, além de aplicar transformações às imagens, como o redimensionamento para um tamanho padrão (224x224 pixels)."
   ]
  },
  {
   "cell_type": "code",
   "execution_count": null,
   "metadata": {},
   "outputs": [],
   "source": [
    "dls = ImageDataLoaders.from_df(df,\n",
    "                                fn_col=0, \n",
    "                                label_col=1, \n",
    "                                valid_pct=0.2, # 20% dos dados para validação\n",
    "                                folder=data_dir,\n",
    "                                item_tfms=Resize(224))\n"
   ]
  },
  {
   "cell_type": "markdown",
   "metadata": {},
   "source": [
    "### 2.4. Visualização de um Lote de Dados\n",
    "\n",
    "Para verificar se os dados foram carregados corretamente, exibimos um lote de imagens com seus respectivos rótulos."
   ]
  },
  {
   "cell_type": "code",
   "execution_count": null,
   "metadata": {},
   "outputs": [],
   "source": [
    "dls.show_batch(max_n=16)"
   ]
  },
  {
   "cell_type": "markdown",
   "metadata": {},
   "source": [
    "## 3. Treinamento do Modelo\n",
    "\n",
    "Nesta seção, definimos e treinamos o nosso modelo de rede neural."
   ]
  },
  {
   "cell_type": "markdown",
   "metadata": {},
   "source": [
    "### 3.1. Escolha do Modelo\n",
    "\n",
    "Decidimos utilizar a arquitetura **ResNet-34**, uma rede neural convolucional pré-treinada no dataset ImageNet. O uso de um modelo pré-treinado (transfer learning) é uma técnica eficaz que nos permite aproveitar o conhecimento aprendido em um grande conjunto de dados para o nosso problema específico, acelerando o treinamento e melhorando a performance."
   ]
  },
  {
   "cell_type": "code",
   "execution_count": null,
   "metadata": {},
   "outputs": [],
   "source": [
    "learn = vision_learner(dls, resnet34, metrics=error_rate)"
   ]
  },
  {
   "cell_type": "markdown",
   "metadata": {},
   "source": [
    "### 3.2. Encontrando a Taxa de Aprendizagem Ideal\n",
    "\n",
    "A taxa de aprendizagem (learning rate) é um hiperparâmetro crucial no treinamento de redes neurais. Uma taxa muito alta pode fazer com que o modelo não convirja, enquanto uma taxa muito baixa pode tornar o treinamento excessivamente lento. A função `lr_find()` do `fastai` nos ajuda a encontrar uma taxa de aprendizagem ótima, que é tipicamente um ponto antes do valor mínimo da curva de perda."
   ]
  },
  {
   "cell_type": "code",
   "execution_count": null,
   "metadata": {},
   "outputs": [],
   "source": [
    "learn.lr_find()"
   ]
  },
  {
   "cell_type": "markdown",
   "metadata": {},
   "source": [
    "### 3.3. Treinamento com `fine_tune`\n",
    "\n",
    "A função `fine_tune` do `fastai` é uma maneira eficiente de aplicar o transfer learning. Ela primeiro treina as camadas finais do modelo (a \"cabeça\" da rede) e depois ajusta o restante da rede com uma taxa de aprendizagem menor. Isso permite que o modelo se adapte ao nosso dataset específico sem perder o conhecimento adquirido no treinamento inicial."
   ]
  },
  {
   "cell_type": "code",
   "execution_count": null,
   "metadata": {},
   "outputs": [],
   "source": [
    "# Realiza o fine-tuning do modelo por 4 épocas\n",
    "learn.fine_tune(4, 0.001)"
   ]
  },
  {
   "cell_type": "markdown",
   "metadata": {},
   "source": [
    "## 4. Análise dos Resultados\n",
    "\n",
    "Após o treinamento, é importante analisar o desempenho do modelo para entender onde ele está acertando e onde está errando."
   ]
  },
  {
   "cell_type": "markdown",
   "metadata": {},
   "source": [
    "### 4.1. Matriz de Confusão\n",
    "\n",
    "A matriz de confusão é uma excelente ferramenta para visualizar o desempenho do modelo. Ela mostra o número de predições corretas e incorretas para cada classe. A diagonal principal representa as classificações corretas."
   ]
  },
  {
   "cell_type": "code",
   "execution_count": null,
   "metadata": {},
   "outputs": [],
   "source": [
    "interp = ClassificationInterpretation.from_learner(learn)\n",
    "interp.plot_confusion_matrix()"
   ]
  },
  {
   "cell_type": "markdown",
   "metadata": {},
   "source": [
    "### 4.2. Análise das Maiores Perdas\n",
    "\n",
    "A função `plot_top_losses` nos mostra as imagens em que o modelo teve mais dificuldade para classificar (maiores valores de perda). Isso é útil para identificar possíveis problemas nos dados, como imagens mal rotuladas ou de baixa qualidade."
   ]
  },
  {
   "cell_type": "code",
   "execution_count": null,
   "metadata": {},
   "outputs": [],
   "source": [
    "interp.plot_top_losses(9, figsize=(15,10))"
   ]
  },
  {
   "cell_type": "markdown",
   "metadata": {},
   "source": [
    "## 5. Testando o Modelo com uma Imagem\n",
    "\n",
    "Finalmente, podemos testar o modelo com uma imagem específica para ver a sua predição em um exemplo prático."
   ]
  },
  {
   "cell_type": "code",
   "execution_count": null,
   "metadata": {},
   "outputs": [],
   "source": [
    "# Carrega uma imagem de teste\n",
    "img = PILImage.create(path + '/Original/Benign/Im110_0.jpg')\n",
    "# Realiza a predição\n",
    "pred,_,_ = learn.predict(img)\n",
    "print(f'A predição é: {pred}')"
   ]
  },
  {
   "cell_type": "markdown",
   "metadata": {},
   "source": [
    "## Conclusão\n",
    "\n",
    "Este projeto demonstrou a eficácia do uso de redes neurais convolucionais e transfer learning para a classificação de células de leucemia. O modelo treinado alcançou uma alta acurácia, mostrando o potencial dessa abordagem para auxiliar no diagnóstico médico.\n",
    "\n",
    "Como próximos passos, poderíamos explorar outras arquiteturas de CNN, aumentar o conjunto de dados com técnicas de data augmentation mais avançadas, de interpretabilidade como o GradCAM, ou até mesmo desenvolver uma aplicação web para utilizar o modelo de forma interativa."
   ]
  }
 ],
 "metadata": {
  "accelerator": "GPU",
  "colab": {
   "gpuType": "T4",
   "provenance": []
  },
  "kernelspec": {
   "display_name": "Python 3",
   "name": "python3"
  },
  "language_info": {
   "codemirror_mode": {
    "name": "ipython",
    "version": 3
   },
   "file_extension": ".py",
   "mimetype": "text/x-python",
   "name": "python",
   "nbconvert_exporter": "python",
   "pygments_lexer": "ipython3",
   "version": "3.7.12"
  }
 },
 "nbformat": 4,
 "nbformat_minor": 0
}
